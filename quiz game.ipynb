{
 "cells": [
  {
   "cell_type": "code",
   "execution_count": 1,
   "id": "e13dc4d3",
   "metadata": {},
   "outputs": [
    {
     "name": "stdout",
     "output_type": "stream",
     "text": [
      "Welcome to my computer quiz!\n",
      "Do you want to play? yes\n",
      "Okay! let's play :)\n",
      "What does CPU stands for? ghs\n",
      "Incorrect!\n",
      "What does GPU stands for? fvhdg\n",
      "Incorrect!\n",
      "What does RAM stands for? random access memory\n",
      "correct!\n",
      "What does ROM stands for? gdhd\n",
      "Incorrect!\n",
      "What does PSU stands for? dd\n",
      "Incorrect!\n",
      "You got 1 questions correct!\n",
      "You got 20.0%.\n"
     ]
    }
   ],
   "source": [
    "print(\"Welcome to my computer quiz!\")\n",
    "playing = input(\"Do you want to play? \")\n",
    "\n",
    "if playing.upper() != \"yes\":\n",
    "    quit()\n",
    "    \n",
    "print(\"Okay! let's play :)\")\n",
    "score = 0\n",
    "\n",
    "answer = input(\"What does CPU stands for? \")\n",
    "if answer.lower() == \"central processing unit\":\n",
    "    print('correct!')\n",
    "    score += 1\n",
    "else:\n",
    "    print('Incorrect!')\n",
    "\n",
    "answer = input(\"What does GPU stands for? \")\n",
    "if answer.lower() == \"graphics processing unit\":\n",
    "    print('correct!')\n",
    "    score += 1\n",
    "else:\n",
    "    print('Incorrect!')\n",
    "    \n",
    "answer = input(\"What does RAM stands for? \")\n",
    "if answer.lower() == \"random access memory\":\n",
    "    print('correct!')\n",
    "    score += 1\n",
    "else:\n",
    "    print('Incorrect!')\n",
    "    \n",
    "answer = input(\"What does ROM stands for? \")\n",
    "if answer.lower() == \"read only memory\":\n",
    "    print('correct!')\n",
    "    score += 1\n",
    "else:\n",
    "    print('Incorrect!')\n",
    "    \n",
    "answer = input(\"What does PSU stands for? \")\n",
    "if answer.lower() == \"power supply unit\":\n",
    "    print('correct!')\n",
    "    score += 1\n",
    "else:\n",
    "    print('Incorrect!')\n",
    "    \n",
    "print(\"You got \" +str(score) + \" questions correct!\")\n",
    "print(\"You got \" +str((score / 5) * 100) + \"%.\")"
   ]
  },
  {
   "cell_type": "code",
   "execution_count": null,
   "id": "e5d84bea",
   "metadata": {},
   "outputs": [],
   "source": []
  },
  {
   "cell_type": "code",
   "execution_count": null,
   "id": "39d0e5fa",
   "metadata": {},
   "outputs": [],
   "source": []
  }
 ],
 "metadata": {
  "kernelspec": {
   "display_name": "Python 3",
   "language": "python",
   "name": "python3"
  },
  "language_info": {
   "codemirror_mode": {
    "name": "ipython",
    "version": 3
   },
   "file_extension": ".py",
   "mimetype": "text/x-python",
   "name": "python",
   "nbconvert_exporter": "python",
   "pygments_lexer": "ipython3",
   "version": "3.8.8"
  }
 },
 "nbformat": 4,
 "nbformat_minor": 5
}
